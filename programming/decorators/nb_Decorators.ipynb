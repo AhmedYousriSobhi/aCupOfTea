{
 "cells": [
  {
   "cell_type": "markdown",
   "metadata": {},
   "source": [
    "Author: [Ahmed Sobhi](ahmedyousrisobhi@gmail.com)\n",
    "\n",
    "Creation time: 2023-07-12\n",
    "\n",
    "Objective: Illustrate Decorators in Python.\n",
    "\n",
    "Credits: [DataCamp](https://www.datacamp.com/tutorial/decorators-python)"
   ]
  },
  {
   "cell_type": "code",
   "execution_count": null,
   "metadata": {
    "vscode": {
     "languageId": "plaintext"
    }
   },
   "outputs": [],
   "source": []
  }
 ],
 "metadata": {
  "language_info": {
   "name": "python"
  },
  "orig_nbformat": 4
 },
 "nbformat": 4,
 "nbformat_minor": 2
}
