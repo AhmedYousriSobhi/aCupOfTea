{
 "cells": [
  {
   "attachments": {},
   "cell_type": "markdown",
   "metadata": {},
   "source": [
    "Author of this notebook: [Ahmed Sobhi](ahmedyousrisobhi@gmail.com)\n",
    "\n",
    "Creation Date: 2023-07-09\n",
    "\n",
    "Objective: Illusterate robust Python programming Techniques.\n",
    "\n",
    "Sources: [WEB AGE SOLUTION](https://www.webagesolutions.com/blog/robust-python-programming-techniques)"
   ]
  },
  {
   "attachments": {},
   "cell_type": "markdown",
   "metadata": {},
   "source": [
    "# Robustness\n",
    "## Definition:\n",
    " - Something to be robust means that is capable of handling unexpected inputs that are not explicitly defined for its application.\n",
    "  - Example: if a prgram is expecting a positive integer (price of item), and instead is given a negative integer, then the program should be able to recover gracefully from this error.\n",
    "  - Real-life critical applications, where a software error can lead to injury of loss of life. This point was driven home in late 1980s in accidents involving __Therac-25__, a radiation-therapy machine, which severely overdosed six patients between 1985 & 1987, some of whom died from complications resulting from their radiation overdose."
   ]
  },
  {
   "attachments": {},
   "cell_type": "markdown",
   "metadata": {},
   "source": [
    "## Assertions\n",
    "- It is a mechanism that helps software developers write a more robust code.\n",
    "- They are part and parcel of the __Defensive Programming__ philosopy.\n",
    "- Assertions are boolean expressions that ensure that a specific (often critical) assumption about the program’s state is not violated Program execution proceeds if the assertion evaluates to True (the program is in normal state); an exception with a supplied error message is raised otherwise.\n",
    "- Assertions are usually used to validate input parameters passed to a function, an object method, or to verify some fundamental business conditions."
   ]
  },
  {
   "attachments": {},
   "cell_type": "markdown",
   "metadata": {},
   "source": [
    "### Assertions in Python\n",
    "\n",
    "```python\n",
    "assert <context-specific boolean expressions>, <error message>\n",
    "```"
   ]
  },
  {
   "cell_type": "code",
   "execution_count": 2,
   "metadata": {},
   "outputs": [],
   "source": [
    "def valid_age(age: int = 10)->bool:\n",
    "    \"\"\"\n",
    "        Used to check if the user age is +16 to be valid or not.\n",
    "\n",
    "        Input:\n",
    "            age: integer, input user age.\n",
    "        \n",
    "        output:\n",
    "            boolean value, indicate whether input age is valid or not\n",
    "    \"\"\"\n",
    "\n",
    "    # We have to make sure the user input age is not negative.\n",
    "    assert age > 0, 'Age must be a positive number over 0'\n",
    "\n",
    "    return_val = False\n",
    "\n",
    "    if age > 16:\n",
    "        return_val = True\n",
    "\n",
    "    return return_val    "
   ]
  },
  {
   "cell_type": "code",
   "execution_count": 3,
   "metadata": {},
   "outputs": [
    {
     "data": {
      "text/plain": [
       "False"
      ]
     },
     "execution_count": 3,
     "metadata": {},
     "output_type": "execute_result"
    }
   ],
   "source": [
    "age = 5\n",
    "valid_age(age)"
   ]
  },
  {
   "cell_type": "code",
   "execution_count": 4,
   "metadata": {},
   "outputs": [
    {
     "data": {
      "text/plain": [
       "True"
      ]
     },
     "execution_count": 4,
     "metadata": {},
     "output_type": "execute_result"
    }
   ],
   "source": [
    "age = 50\n",
    "valid_age(age)"
   ]
  },
  {
   "cell_type": "code",
   "execution_count": 5,
   "metadata": {},
   "outputs": [
    {
     "ename": "AssertionError",
     "evalue": "Age must be a positive number over 0",
     "output_type": "error",
     "traceback": [
      "\u001b[0;31m---------------------------------------------------------------------------\u001b[0m",
      "\u001b[0;31mAssertionError\u001b[0m                            Traceback (most recent call last)",
      "\u001b[0;32m/tmp/ipykernel_48842/343721057.py\u001b[0m in \u001b[0;36m<module>\u001b[0;34m\u001b[0m\n\u001b[1;32m      1\u001b[0m \u001b[0mage\u001b[0m \u001b[0;34m=\u001b[0m \u001b[0;34m-\u001b[0m\u001b[0;36m5\u001b[0m\u001b[0;34m\u001b[0m\u001b[0;34m\u001b[0m\u001b[0m\n\u001b[0;32m----> 2\u001b[0;31m \u001b[0mvalid_age\u001b[0m\u001b[0;34m(\u001b[0m\u001b[0mage\u001b[0m\u001b[0;34m)\u001b[0m\u001b[0;34m\u001b[0m\u001b[0;34m\u001b[0m\u001b[0m\n\u001b[0m",
      "\u001b[0;32m/tmp/ipykernel_48842/3080515404.py\u001b[0m in \u001b[0;36mvalid_age\u001b[0;34m(age)\u001b[0m\n\u001b[1;32m     11\u001b[0m \u001b[0;34m\u001b[0m\u001b[0m\n\u001b[1;32m     12\u001b[0m     \u001b[0;31m# We have to make sure the user input age is not negative.\u001b[0m\u001b[0;34m\u001b[0m\u001b[0;34m\u001b[0m\u001b[0m\n\u001b[0;32m---> 13\u001b[0;31m     \u001b[0;32massert\u001b[0m \u001b[0mage\u001b[0m \u001b[0;34m>\u001b[0m \u001b[0;36m0\u001b[0m\u001b[0;34m,\u001b[0m \u001b[0;34m'Age must be a positive number over 0'\u001b[0m\u001b[0;34m\u001b[0m\u001b[0;34m\u001b[0m\u001b[0m\n\u001b[0m\u001b[1;32m     14\u001b[0m \u001b[0;34m\u001b[0m\u001b[0m\n\u001b[1;32m     15\u001b[0m     \u001b[0mreturn_val\u001b[0m \u001b[0;34m=\u001b[0m \u001b[0;32mFalse\u001b[0m\u001b[0;34m\u001b[0m\u001b[0;34m\u001b[0m\u001b[0m\n",
      "\u001b[0;31mAssertionError\u001b[0m: Age must be a positive number over 0"
     ]
    }
   ],
   "source": [
    "age = -5\n",
    "valid_age(age)"
   ]
  },
  {
   "cell_type": "code",
   "execution_count": null,
   "metadata": {},
   "outputs": [],
   "source": []
  }
 ],
 "metadata": {
  "kernelspec": {
   "display_name": "Python 3",
   "language": "python",
   "name": "python3"
  },
  "language_info": {
   "codemirror_mode": {
    "name": "ipython",
    "version": 3
   },
   "file_extension": ".py",
   "mimetype": "text/x-python",
   "name": "python",
   "nbconvert_exporter": "python",
   "pygments_lexer": "ipython3",
   "version": "3.10.6"
  },
  "orig_nbformat": 4
 },
 "nbformat": 4,
 "nbformat_minor": 2
}
