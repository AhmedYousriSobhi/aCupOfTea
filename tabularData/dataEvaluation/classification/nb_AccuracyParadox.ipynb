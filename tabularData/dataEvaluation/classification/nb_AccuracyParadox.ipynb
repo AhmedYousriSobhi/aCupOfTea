{
 "cells": [
  {
   "cell_type": "markdown",
   "metadata": {},
   "source": [
    "# Accuracy Paradox\n",
    "\n",
    "This notebook, to illustrate the failure of accuracy metrix in imbalancing dataset for a classification problem."
   ]
  },
  {
   "cell_type": "code",
   "execution_count": null,
   "metadata": {},
   "outputs": [],
   "source": [
    "# ! pip install -U scikit-learn"
   ]
  },
  {
   "cell_type": "code",
   "execution_count": 7,
   "metadata": {},
   "outputs": [],
   "source": [
    "import numpy as np\n",
    "from matplotlib import pyplot\n",
    "from sklearn.datasets import make_blobs\n",
    "from sklearn.dummy import DummyClassifier\n",
    "from sklearn.model_selection import cross_val_score\n",
    "from sklearn.model_selection import RepeatedStratifiedKFold"
   ]
  },
  {
   "cell_type": "code",
   "execution_count": 8,
   "metadata": {},
   "outputs": [
    {
     "name": "stdout",
     "output_type": "stream",
     "text": [
      "Class 0: 90.909%, Class 1: 9.091%\n"
     ]
    },
    {
     "data": {
      "image/png": "[encoded data removed]",
      "text/plain": [
       "<Figure size 432x288 with 1 Axes>"
      ]
     },
     "metadata": {
      "needs_background": "light"
     },
     "output_type": "display_data"
    }
   ],
   "source": [
    "# define an imbalanced dataset with a 1:100 class ratio\n",
    "\n",
    "# create a dataset with a given class distribution\n",
    "def get_dataset(proportions):\n",
    "\t# determine the number of classes\n",
    "\tn_classes = len(proportions)\n",
    "\t# determine the number of examples to generate for each class\n",
    "\tlargest = max([v for k,v in proportions.items()])\n",
    "\tn_samples = largest * n_classes\n",
    "\t# create dataset\n",
    "\tX, y = make_blobs(n_samples=n_samples, centers=n_classes, n_features=2, random_state=1, cluster_std=3)\n",
    "\t# collect the examples\n",
    "\tX_list, y_list = list(), list()\n",
    "\tfor k,v in proportions.items():\n",
    "\t\trow_ix = np.where(y == k)[0]\n",
    "\t\tselected = row_ix[:v]\n",
    "\t\tX_list.append(X[selected, :])\n",
    "\t\ty_list.append(y[selected])\n",
    "\treturn np.vstack(X_list), np.hstack(y_list)\n",
    "\n",
    "# scatter plot of dataset, different color for each class\n",
    "def plot_dataset(X, y):\n",
    "\t# create scatter plot for samples from each class\n",
    "\tn_classes = len(np.unique(y))\n",
    "\tfor class_value in range(n_classes):\n",
    "\t\t# get row indexes for samples with this class\n",
    "\t\trow_ix = np.where(y == class_value)[0]\n",
    "\t\t# create scatter of these samples\n",
    "\t\tpyplot.scatter(X[row_ix, 0], X[row_ix, 1], label=str(class_value))\n",
    "\t# show a legend\n",
    "\tpyplot.legend()\n",
    "\t# show the plot\n",
    "\tpyplot.show()\n",
    "\n",
    "# define the class distribution 1:100\n",
    "proportions = {0:10000, 1:1000}\n",
    "# generate dataset\n",
    "X, y = get_dataset(proportions)\n",
    "# summarize class distribution:\n",
    "major = (len(np.where(y == 0)[0]) / len(X)) * 100\n",
    "minor = (len(np.where(y == 1)[0]) / len(X)) * 100\n",
    "print('Class 0: %.3f%%, Class 1: %.3f%%' % (major, minor))\n",
    "# plot dataset\n",
    "plot_dataset(X, y)"
   ]
  },
  {
   "cell_type": "code",
   "execution_count": 9,
   "metadata": {},
   "outputs": [
    {
     "name": "stdout",
     "output_type": "stream",
     "text": [
      "Class 0: 90.909%, Class 1: 9.091%\n",
      "Accuracy: 90.909%\n"
     ]
    }
   ],
   "source": [
    "# evaluate a model using repeated k-fold cross-validation\n",
    "def evaluate_model(X, y, metric):\n",
    " # define model\n",
    " model = DummyClassifier(strategy='most_frequent')\n",
    " # evaluate a model with repeated stratified k fold cv\n",
    " cv = RepeatedStratifiedKFold(n_splits=10, n_repeats=3, random_state=1)\n",
    " scores = cross_val_score(model, X, y, scoring=metric, cv=cv, n_jobs=-1)\n",
    " return scores\n",
    " \n",
    "# define the class distribution 1:100\n",
    "proportions = {0:10000, 1:1000}\n",
    "# generate dataset\n",
    "X, y = get_dataset(proportions)\n",
    "# summarize class distribution:\n",
    "major = (len(np.where(y == 0)[0]) / len(X)) * 100\n",
    "minor = (len(np.where(y == 1)[0]) / len(X)) * 100\n",
    "print('Class 0: %.3f%%, Class 1: %.3f%%' % (major, minor))\n",
    "# evaluate model\n",
    "scores = evaluate_model(X, y, 'accuracy')\n",
    "# report score\n",
    "print('Accuracy: %.3f%%' % (np.mean(scores) * 100))"
   ]
  },
  {
   "cell_type": "code",
   "execution_count": null,
   "metadata": {},
   "outputs": [],
   "source": []
  }
 ],
 "metadata": {
  "kernelspec": {
   "display_name": "Python 3",
   "language": "python",
   "name": "python3"
  },
  "language_info": {
   "codemirror_mode": {
    "name": "ipython",
    "version": 3
   },
   "file_extension": ".py",
   "mimetype": "text/x-python",
   "name": "python",
   "nbconvert_exporter": "python",
   "pygments_lexer": "ipython3",
   "version": "3.10.6"
  },
  "orig_nbformat": 4
 },
 "nbformat": 4,
 "nbformat_minor": 2
}
