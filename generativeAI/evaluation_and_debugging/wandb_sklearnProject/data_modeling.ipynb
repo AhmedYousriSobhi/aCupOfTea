{
 "cells": [
  {
   "cell_type": "markdown",
   "metadata": {},
   "source": [
    "Author: Ahmed Sobhi\n",
    "\n",
    "Creation_date: 3th Aug 2023\n",
    "\n",
    "Objective: Data Modeling Experimental using W&B Tools"
   ]
  },
  {
   "cell_type": "markdown",
   "metadata": {},
   "source": [
    "# Importing required libararies and packages"
   ]
  },
  {
   "cell_type": "code",
   "execution_count": 36,
   "metadata": {},
   "outputs": [],
   "source": [
    "import warnings\n",
    "warnings.filterwarnings('ignore')\n",
    "\n",
    "import os\n",
    "\n",
    "import pandas as pd\n",
    "import numpy as np\n",
    "\n",
    "# Used for visulization\n",
    "import matplotlib.pyplot as plt\n",
    "\n",
    "# For iteration visulization purpose\n",
    "from tqdm import tqdm\n",
    "\n",
    "# Import defined tools script\n",
    "import sys\n",
    "\n",
    "# adding tools script into system path\n",
    "# sys.path.insert(0, '')\n",
    "from tools import featureengineering, datapreprocessing, pipelinetransformers\n",
    "\n",
    "# Used for datasplitting, modeling\n",
    "from scipy import stats\n",
    "from sklearn.impute import SimpleImputer\n",
    "from sklearn.metrics import confusion_matrix, accuracy_score, classification_report\n",
    "from sklearn.model_selection import train_test_split\n",
    "from sklearn.compose import ColumnTransformer, make_column_transformer\n",
    "from sklearn.base import BaseEstimator, TransformerMixin\n",
    "from sklearn.preprocessing import OneHotEncoder, StandardScaler\n",
    "from sklearn.pipeline import Pipeline\n",
    "from xgboost import XGBClassifier\n",
    "from sklearn.model_selection import GridSearchCV\n",
    "\n",
    "# To save the model locally\n",
    "import joblib\n",
    "\n",
    "# Import wandb\n",
    "import wandb"
   ]
  },
  {
   "cell_type": "markdown",
   "metadata": {},
   "source": [
    "# Data loading"
   ]
  },
  {
   "cell_type": "code",
   "execution_count": 37,
   "metadata": {},
   "outputs": [
    {
     "data": {
      "text/html": [
       "<div>\n",
       "<style scoped>\n",
       "    .dataframe tbody tr th:only-of-type {\n",
       "        vertical-align: middle;\n",
       "    }\n",
       "\n",
       "    .dataframe tbody tr th {\n",
       "        vertical-align: top;\n",
       "    }\n",
       "\n",
       "    .dataframe thead th {\n",
       "        text-align: right;\n",
       "    }\n",
       "</style>\n",
       "<table border=\"1\" class=\"dataframe\">\n",
       "  <thead>\n",
       "    <tr style=\"text-align: right;\">\n",
       "      <th></th>\n",
       "      <th>country</th>\n",
       "      <th>article</th>\n",
       "      <th>sales</th>\n",
       "      <th>regular_price</th>\n",
       "      <th>current_price</th>\n",
       "      <th>ratio</th>\n",
       "      <th>retailweek</th>\n",
       "      <th>promo1</th>\n",
       "      <th>promo2</th>\n",
       "      <th>customer_id</th>\n",
       "      <th>...</th>\n",
       "      <th>style</th>\n",
       "      <th>sizes</th>\n",
       "      <th>gender</th>\n",
       "      <th>rgb_r_main_col</th>\n",
       "      <th>rgb_g_main_col</th>\n",
       "      <th>rgb_b_main_col</th>\n",
       "      <th>rgb_r_sec_col</th>\n",
       "      <th>rgb_g_sec_col</th>\n",
       "      <th>rgb_b_sec_col</th>\n",
       "      <th>label</th>\n",
       "    </tr>\n",
       "  </thead>\n",
       "  <tbody>\n",
       "    <tr>\n",
       "      <th>0</th>\n",
       "      <td>Germany</td>\n",
       "      <td>YN8639</td>\n",
       "      <td>28</td>\n",
       "      <td>5.95</td>\n",
       "      <td>3.95</td>\n",
       "      <td>0.663866</td>\n",
       "      <td>2016-03-27</td>\n",
       "      <td>0</td>\n",
       "      <td>0</td>\n",
       "      <td>1003.0</td>\n",
       "      <td>...</td>\n",
       "      <td>slim</td>\n",
       "      <td>xxs,xs,s,m,l,xl,xxl</td>\n",
       "      <td>women</td>\n",
       "      <td>205</td>\n",
       "      <td>104</td>\n",
       "      <td>57</td>\n",
       "      <td>255</td>\n",
       "      <td>187</td>\n",
       "      <td>255</td>\n",
       "      <td>0</td>\n",
       "    </tr>\n",
       "    <tr>\n",
       "      <th>1</th>\n",
       "      <td>Germany</td>\n",
       "      <td>YN8639</td>\n",
       "      <td>28</td>\n",
       "      <td>5.95</td>\n",
       "      <td>3.95</td>\n",
       "      <td>0.663866</td>\n",
       "      <td>2016-03-27</td>\n",
       "      <td>0</td>\n",
       "      <td>0</td>\n",
       "      <td>1003.0</td>\n",
       "      <td>...</td>\n",
       "      <td>regular</td>\n",
       "      <td>xxs,xs,s,m,l,xl,xxl</td>\n",
       "      <td>women</td>\n",
       "      <td>188</td>\n",
       "      <td>238</td>\n",
       "      <td>104</td>\n",
       "      <td>255</td>\n",
       "      <td>187</td>\n",
       "      <td>255</td>\n",
       "      <td>0</td>\n",
       "    </tr>\n",
       "    <tr>\n",
       "      <th>2</th>\n",
       "      <td>Germany</td>\n",
       "      <td>YN8639</td>\n",
       "      <td>28</td>\n",
       "      <td>5.95</td>\n",
       "      <td>3.95</td>\n",
       "      <td>0.663866</td>\n",
       "      <td>2016-03-27</td>\n",
       "      <td>0</td>\n",
       "      <td>0</td>\n",
       "      <td>1003.0</td>\n",
       "      <td>...</td>\n",
       "      <td>regular</td>\n",
       "      <td>xxs,xs,s,m,l,xl,xxl</td>\n",
       "      <td>women</td>\n",
       "      <td>205</td>\n",
       "      <td>173</td>\n",
       "      <td>0</td>\n",
       "      <td>255</td>\n",
       "      <td>187</td>\n",
       "      <td>255</td>\n",
       "      <td>0</td>\n",
       "    </tr>\n",
       "    <tr>\n",
       "      <th>3</th>\n",
       "      <td>Germany</td>\n",
       "      <td>YN8639</td>\n",
       "      <td>28</td>\n",
       "      <td>5.95</td>\n",
       "      <td>3.95</td>\n",
       "      <td>0.663866</td>\n",
       "      <td>2016-03-27</td>\n",
       "      <td>0</td>\n",
       "      <td>0</td>\n",
       "      <td>1003.0</td>\n",
       "      <td>...</td>\n",
       "      <td>regular</td>\n",
       "      <td>xxs,xs,s,m,l,xl,xxl</td>\n",
       "      <td>kids</td>\n",
       "      <td>205</td>\n",
       "      <td>140</td>\n",
       "      <td>149</td>\n",
       "      <td>164</td>\n",
       "      <td>211</td>\n",
       "      <td>238</td>\n",
       "      <td>0</td>\n",
       "    </tr>\n",
       "    <tr>\n",
       "      <th>4</th>\n",
       "      <td>Germany</td>\n",
       "      <td>YN8639</td>\n",
       "      <td>28</td>\n",
       "      <td>5.95</td>\n",
       "      <td>3.95</td>\n",
       "      <td>0.663866</td>\n",
       "      <td>2016-03-27</td>\n",
       "      <td>0</td>\n",
       "      <td>0</td>\n",
       "      <td>1003.0</td>\n",
       "      <td>...</td>\n",
       "      <td>regular</td>\n",
       "      <td>xxs,xs,s,m,l,xl,xxl</td>\n",
       "      <td>women</td>\n",
       "      <td>138</td>\n",
       "      <td>43</td>\n",
       "      <td>226</td>\n",
       "      <td>164</td>\n",
       "      <td>211</td>\n",
       "      <td>238</td>\n",
       "      <td>0</td>\n",
       "    </tr>\n",
       "  </tbody>\n",
       "</table>\n",
       "<p>5 rows × 24 columns</p>\n",
       "</div>"
      ],
      "text/plain": [
       "   country article  sales  regular_price  current_price     ratio  retailweek  \\\n",
       "0  Germany  YN8639     28           5.95           3.95  0.663866  2016-03-27   \n",
       "1  Germany  YN8639     28           5.95           3.95  0.663866  2016-03-27   \n",
       "2  Germany  YN8639     28           5.95           3.95  0.663866  2016-03-27   \n",
       "3  Germany  YN8639     28           5.95           3.95  0.663866  2016-03-27   \n",
       "4  Germany  YN8639     28           5.95           3.95  0.663866  2016-03-27   \n",
       "\n",
       "   promo1  promo2  customer_id  ...    style                sizes gender  \\\n",
       "0       0       0       1003.0  ...     slim  xxs,xs,s,m,l,xl,xxl  women   \n",
       "1       0       0       1003.0  ...  regular  xxs,xs,s,m,l,xl,xxl  women   \n",
       "2       0       0       1003.0  ...  regular  xxs,xs,s,m,l,xl,xxl  women   \n",
       "3       0       0       1003.0  ...  regular  xxs,xs,s,m,l,xl,xxl   kids   \n",
       "4       0       0       1003.0  ...  regular  xxs,xs,s,m,l,xl,xxl  women   \n",
       "\n",
       "   rgb_r_main_col rgb_g_main_col rgb_b_main_col rgb_r_sec_col  rgb_g_sec_col  \\\n",
       "0             205            104             57           255            187   \n",
       "1             188            238            104           255            187   \n",
       "2             205            173              0           255            187   \n",
       "3             205            140            149           164            211   \n",
       "4             138             43            226           164            211   \n",
       "\n",
       "   rgb_b_sec_col  label  \n",
       "0            255      0  \n",
       "1            255      0  \n",
       "2            255      0  \n",
       "3            238      0  \n",
       "4            238      0  \n",
       "\n",
       "[5 rows x 24 columns]"
      ]
     },
     "execution_count": 37,
     "metadata": {},
     "output_type": "execute_result"
    }
   ],
   "source": [
    "# Loading raw dataset\n",
    "df_raw = pd.read_csv('data/data.csv')\n",
    "\n",
    "df_raw.head()"
   ]
  },
  {
   "cell_type": "code",
   "execution_count": 38,
   "metadata": {},
   "outputs": [
    {
     "data": {
      "text/html": [
       "<div>\n",
       "<style scoped>\n",
       "    .dataframe tbody tr th:only-of-type {\n",
       "        vertical-align: middle;\n",
       "    }\n",
       "\n",
       "    .dataframe tbody tr th {\n",
       "        vertical-align: top;\n",
       "    }\n",
       "\n",
       "    .dataframe thead th {\n",
       "        text-align: right;\n",
       "    }\n",
       "</style>\n",
       "<table border=\"1\" class=\"dataframe\">\n",
       "  <thead>\n",
       "    <tr style=\"text-align: right;\">\n",
       "      <th></th>\n",
       "      <th>count</th>\n",
       "      <th>mean</th>\n",
       "      <th>std</th>\n",
       "      <th>min</th>\n",
       "      <th>25%</th>\n",
       "      <th>50%</th>\n",
       "      <th>75%</th>\n",
       "      <th>max</th>\n",
       "    </tr>\n",
       "  </thead>\n",
       "  <tbody>\n",
       "    <tr>\n",
       "      <th>sales</th>\n",
       "      <td>9999.0</td>\n",
       "      <td>57.820882</td>\n",
       "      <td>89.773730</td>\n",
       "      <td>1.000000</td>\n",
       "      <td>10.000000</td>\n",
       "      <td>26.000000</td>\n",
       "      <td>62.500000</td>\n",
       "      <td>789.00</td>\n",
       "    </tr>\n",
       "    <tr>\n",
       "      <th>regular_price</th>\n",
       "      <td>9999.0</td>\n",
       "      <td>52.311736</td>\n",
       "      <td>33.547643</td>\n",
       "      <td>3.950000</td>\n",
       "      <td>26.450000</td>\n",
       "      <td>43.950000</td>\n",
       "      <td>76.950000</td>\n",
       "      <td>197.95</td>\n",
       "    </tr>\n",
       "    <tr>\n",
       "      <th>current_price</th>\n",
       "      <td>9999.0</td>\n",
       "      <td>28.201225</td>\n",
       "      <td>21.803522</td>\n",
       "      <td>1.950000</td>\n",
       "      <td>12.450000</td>\n",
       "      <td>22.950000</td>\n",
       "      <td>36.950000</td>\n",
       "      <td>140.95</td>\n",
       "    </tr>\n",
       "    <tr>\n",
       "      <th>ratio</th>\n",
       "      <td>9999.0</td>\n",
       "      <td>0.545694</td>\n",
       "      <td>0.191688</td>\n",
       "      <td>0.298246</td>\n",
       "      <td>0.354839</td>\n",
       "      <td>0.532554</td>\n",
       "      <td>0.694823</td>\n",
       "      <td>1.00</td>\n",
       "    </tr>\n",
       "    <tr>\n",
       "      <th>promo1</th>\n",
       "      <td>9999.0</td>\n",
       "      <td>0.057006</td>\n",
       "      <td>0.231865</td>\n",
       "      <td>0.000000</td>\n",
       "      <td>0.000000</td>\n",
       "      <td>0.000000</td>\n",
       "      <td>0.000000</td>\n",
       "      <td>1.00</td>\n",
       "    </tr>\n",
       "    <tr>\n",
       "      <th>promo2</th>\n",
       "      <td>9999.0</td>\n",
       "      <td>0.006001</td>\n",
       "      <td>0.077235</td>\n",
       "      <td>0.000000</td>\n",
       "      <td>0.000000</td>\n",
       "      <td>0.000000</td>\n",
       "      <td>0.000000</td>\n",
       "      <td>1.00</td>\n",
       "    </tr>\n",
       "    <tr>\n",
       "      <th>customer_id</th>\n",
       "      <td>9999.0</td>\n",
       "      <td>2720.894489</td>\n",
       "      <td>1941.263157</td>\n",
       "      <td>3.000000</td>\n",
       "      <td>1011.500000</td>\n",
       "      <td>1989.000000</td>\n",
       "      <td>4618.500000</td>\n",
       "      <td>5988.00</td>\n",
       "    </tr>\n",
       "    <tr>\n",
       "      <th>cost</th>\n",
       "      <td>9999.0</td>\n",
       "      <td>6.516782</td>\n",
       "      <td>3.915039</td>\n",
       "      <td>1.290000</td>\n",
       "      <td>2.290000</td>\n",
       "      <td>5.200000</td>\n",
       "      <td>9.600000</td>\n",
       "      <td>13.29</td>\n",
       "    </tr>\n",
       "    <tr>\n",
       "      <th>rgb_r_main_col</th>\n",
       "      <td>9999.0</td>\n",
       "      <td>161.402240</td>\n",
       "      <td>39.793297</td>\n",
       "      <td>79.000000</td>\n",
       "      <td>138.000000</td>\n",
       "      <td>181.000000</td>\n",
       "      <td>205.000000</td>\n",
       "      <td>205.00</td>\n",
       "    </tr>\n",
       "    <tr>\n",
       "      <th>rgb_g_main_col</th>\n",
       "      <td>9999.0</td>\n",
       "      <td>139.600260</td>\n",
       "      <td>63.647856</td>\n",
       "      <td>26.000000</td>\n",
       "      <td>104.000000</td>\n",
       "      <td>148.000000</td>\n",
       "      <td>181.000000</td>\n",
       "      <td>238.00</td>\n",
       "    </tr>\n",
       "    <tr>\n",
       "      <th>rgb_b_main_col</th>\n",
       "      <td>9999.0</td>\n",
       "      <td>133.499650</td>\n",
       "      <td>81.156429</td>\n",
       "      <td>0.000000</td>\n",
       "      <td>57.000000</td>\n",
       "      <td>149.000000</td>\n",
       "      <td>205.000000</td>\n",
       "      <td>250.00</td>\n",
       "    </tr>\n",
       "    <tr>\n",
       "      <th>rgb_r_sec_col</th>\n",
       "      <td>9999.0</td>\n",
       "      <td>207.700270</td>\n",
       "      <td>35.316550</td>\n",
       "      <td>164.000000</td>\n",
       "      <td>164.000000</td>\n",
       "      <td>205.000000</td>\n",
       "      <td>255.000000</td>\n",
       "      <td>255.00</td>\n",
       "    </tr>\n",
       "    <tr>\n",
       "      <th>rgb_g_sec_col</th>\n",
       "      <td>9999.0</td>\n",
       "      <td>181.402640</td>\n",
       "      <td>23.475104</td>\n",
       "      <td>155.000000</td>\n",
       "      <td>155.000000</td>\n",
       "      <td>187.000000</td>\n",
       "      <td>211.000000</td>\n",
       "      <td>211.00</td>\n",
       "    </tr>\n",
       "    <tr>\n",
       "      <th>rgb_b_sec_col</th>\n",
       "      <td>9999.0</td>\n",
       "      <td>209.905491</td>\n",
       "      <td>45.307826</td>\n",
       "      <td>155.000000</td>\n",
       "      <td>155.000000</td>\n",
       "      <td>238.000000</td>\n",
       "      <td>255.000000</td>\n",
       "      <td>255.00</td>\n",
       "    </tr>\n",
       "    <tr>\n",
       "      <th>label</th>\n",
       "      <td>9999.0</td>\n",
       "      <td>0.140614</td>\n",
       "      <td>0.347640</td>\n",
       "      <td>0.000000</td>\n",
       "      <td>0.000000</td>\n",
       "      <td>0.000000</td>\n",
       "      <td>0.000000</td>\n",
       "      <td>1.00</td>\n",
       "    </tr>\n",
       "  </tbody>\n",
       "</table>\n",
       "</div>"
      ],
      "text/plain": [
       "                 count         mean          std         min          25%  \\\n",
       "sales           9999.0    57.820882    89.773730    1.000000    10.000000   \n",
       "regular_price   9999.0    52.311736    33.547643    3.950000    26.450000   \n",
       "current_price   9999.0    28.201225    21.803522    1.950000    12.450000   \n",
       "ratio           9999.0     0.545694     0.191688    0.298246     0.354839   \n",
       "promo1          9999.0     0.057006     0.231865    0.000000     0.000000   \n",
       "promo2          9999.0     0.006001     0.077235    0.000000     0.000000   \n",
       "customer_id     9999.0  2720.894489  1941.263157    3.000000  1011.500000   \n",
       "cost            9999.0     6.516782     3.915039    1.290000     2.290000   \n",
       "rgb_r_main_col  9999.0   161.402240    39.793297   79.000000   138.000000   \n",
       "rgb_g_main_col  9999.0   139.600260    63.647856   26.000000   104.000000   \n",
       "rgb_b_main_col  9999.0   133.499650    81.156429    0.000000    57.000000   \n",
       "rgb_r_sec_col   9999.0   207.700270    35.316550  164.000000   164.000000   \n",
       "rgb_g_sec_col   9999.0   181.402640    23.475104  155.000000   155.000000   \n",
       "rgb_b_sec_col   9999.0   209.905491    45.307826  155.000000   155.000000   \n",
       "label           9999.0     0.140614     0.347640    0.000000     0.000000   \n",
       "\n",
       "                        50%          75%      max  \n",
       "sales             26.000000    62.500000   789.00  \n",
       "regular_price     43.950000    76.950000   197.95  \n",
       "current_price     22.950000    36.950000   140.95  \n",
       "ratio              0.532554     0.694823     1.00  \n",
       "promo1             0.000000     0.000000     1.00  \n",
       "promo2             0.000000     0.000000     1.00  \n",
       "customer_id     1989.000000  4618.500000  5988.00  \n",
       "cost               5.200000     9.600000    13.29  \n",
       "rgb_r_main_col   181.000000   205.000000   205.00  \n",
       "rgb_g_main_col   148.000000   181.000000   238.00  \n",
       "rgb_b_main_col   149.000000   205.000000   250.00  \n",
       "rgb_r_sec_col    205.000000   255.000000   255.00  \n",
       "rgb_g_sec_col    187.000000   211.000000   211.00  \n",
       "rgb_b_sec_col    238.000000   255.000000   255.00  \n",
       "label              0.000000     0.000000     1.00  "
      ]
     },
     "execution_count": 38,
     "metadata": {},
     "output_type": "execute_result"
    }
   ],
   "source": [
    "df_raw.describe().T"
   ]
  },
  {
   "cell_type": "markdown",
   "metadata": {},
   "source": [
    "# Train Test split"
   ]
  },
  {
   "cell_type": "code",
   "execution_count": 39,
   "metadata": {},
   "outputs": [],
   "source": [
    "target_col = 'label'\n",
    "stratify_col = 'country'\n",
    "\n",
    "# Select features only\n",
    "df_features = df_raw.drop(target_col, axis=1)\n",
    "\n",
    "df_y = df_raw[target_col]\n",
    "\n",
    "x_temp, x_test, y_temp, y_test = train_test_split(\n",
    "    df_features,\n",
    "    df_y,\n",
    "    test_size=0.2,\n",
    "    random_state=42,\n",
    "    stratify=df_features[stratify_col]\n",
    ")\n",
    "\n",
    "df_temp = pd.concat([x_temp, y_temp], axis=1)\n",
    "\n",
    "# Apply data preprocessing\n",
    "df_temp = datapreprocessing.data_preprocess(df_temp)\n",
    "\n",
    "# Feature engineering\n",
    "df_temp = featureengineering.feature_engineereing(df_temp)\n",
    "\n",
    "x_temp = df_temp.drop(target_col, axis=1)\n",
    "y_temp = df_temp[target_col]\n",
    "\n",
    "x_train, x_val, y_train, y_val = train_test_split(\n",
    "    x_temp,\n",
    "    y_temp,\n",
    "    test_size=0.2,\n",
    "    random_state=42,\n",
    "    stratify=x_temp[stratify_col]\n",
    ")"
   ]
  },
  {
   "cell_type": "code",
   "execution_count": 40,
   "metadata": {},
   "outputs": [
    {
     "name": "stdout",
     "output_type": "stream",
     "text": [
      "Train set shape: (5447, 21) (5447,)\n",
      "Validation set shape: (1362, 21) (1362,)\n",
      "Test set shape: (2000, 23) (2000,)\n"
     ]
    }
   ],
   "source": [
    "# Diplay shapes\n",
    "print('Train set shape:', x_train.shape, y_train.shape)\n",
    "print('Validation set shape:', x_val.shape, y_val.shape)\n",
    "print('Test set shape:', x_test.shape, y_test.shape)"
   ]
  },
  {
   "cell_type": "markdown",
   "metadata": {},
   "source": [
    "# Preprocessing and Features Engineering"
   ]
  },
  {
   "cell_type": "markdown",
   "metadata": {},
   "source": [
    "# Pipeline Steps"
   ]
  },
  {
   "cell_type": "code",
   "execution_count": 41,
   "metadata": {},
   "outputs": [],
   "source": [
    "# Extract numerical|Categorical features\n",
    "numeric_features = x_train.select_dtypes('number').columns.tolist()\n",
    "\n",
    "categorical_features = x_train.select_dtypes('object').columns.tolist()\n",
    "\n",
    "imputer_numeric = SimpleImputer(strategy='mean')\n",
    "imputer_categorical = SimpleImputer(strategy='most_frequent')\n",
    "\n",
    "numeric_transformer = Pipeline(\n",
    "    [\n",
    "        ('impute', imputer_numeric),\n",
    "        ('scaler', StandardScaler())\n",
    "    ]\n",
    ")\n",
    "\n",
    "categorical_transformer = Pipeline(\n",
    "    [\n",
    "        ('impute', imputer_categorical),\n",
    "        ('ohc', OneHotEncoder(handle_unknown='ignore'))\n",
    "    ]\n",
    ")\n",
    "\n",
    "preprocessor = ColumnTransformer(\n",
    "    [\n",
    "        ('numericals', numeric_transformer, numeric_features),\n",
    "        ('Categorical', categorical_transformer, categorical_features)\n",
    "    ],\n",
    "    remainder='drop',\n",
    "    n_jobs=-1\n",
    ")"
   ]
  },
  {
   "cell_type": "code",
   "execution_count": 42,
   "metadata": {},
   "outputs": [],
   "source": [
    "# # # Testing\n",
    "# preprocessor.fit(x_train)\n",
    "\n",
    "# preprocessor.transform(x_train)"
   ]
  },
  {
   "cell_type": "markdown",
   "metadata": {},
   "source": [
    "# Model Pipeline"
   ]
  },
  {
   "cell_type": "code",
   "execution_count": 43,
   "metadata": {},
   "outputs": [],
   "source": [
    "def train_model(process_pipeline, clf, config):\n",
    "    \"Train a model with given configuration\"\n",
    "\n",
    "    global x_train, y_train, x_val, y_val\n",
    "\n",
    "    # Start wandb run\n",
    "    wandb.init(project='sports_store', config=config)\n",
    "\n",
    "    # Define model\n",
    "    model = clf(**config)\n",
    "\n",
    "    # Add to pipeline\n",
    "    model_pipeline = Pipeline(\n",
    "        steps=[\n",
    "            ('col_trans', process_pipeline),\n",
    "            ('model', model)\n",
    "        ]\n",
    "    )\n",
    "\n",
    "    # Fit the model to training dataset\n",
    "    model_pipeline.fit(x_train, y_train)\n",
    "    \n",
    "    # calculate the accuracy\n",
    "    pred_train = model_pipeline.predict(x_train)\n",
    "\n",
    "    pred_val = model_pipeline.predict(x_val)\n",
    "\n",
    "    acc_train = accuracy_score(y_train, pred_train)\n",
    "    \n",
    "    acc_val = accuracy_score(y_val, pred_val)\n",
    "\n",
    "    conf_matrix_train = confusion_matrix(y_train, pred_train)\n",
    "\n",
    "    conf_matrix_val = confusion_matrix(y_val, pred_val)\n",
    "    \n",
    "    # Log metrices over time to visulaization performance\n",
    "    wandb.log({\n",
    "        'train_acc':acc_train,\n",
    "        'val_acc':acc_val,\n",
    "        'train_confusion_matrix':conf_matrix_train,\n",
    "        'val_confusion_matrix':conf_matrix_val\n",
    "    })\n",
    "\n",
    "    # Finish wandb\n",
    "    wandb.finish()"
   ]
  },
  {
   "cell_type": "markdown",
   "metadata": {},
   "source": [
    "Try to rerun the following cell, with changing the configuration parameters."
   ]
  },
  {
   "cell_type": "code",
   "execution_count": 45,
   "metadata": {},
   "outputs": [
    {
     "data": {
      "text/html": [
       "Tracking run with wandb version 0.15.8"
      ],
      "text/plain": [
       "<IPython.core.display.HTML object>"
      ]
     },
     "metadata": {},
     "output_type": "display_data"
    },
    {
     "data": {
      "text/html": [
       "Run data is saved locally in <code>/home/yousri/Workspace/aCupOfTea/generativeAI/evaluation_and_debugging/wandb_sklearnProject/wandb/run-20230803_144053-p38on8lc</code>"
      ],
      "text/plain": [
       "<IPython.core.display.HTML object>"
      ]
     },
     "metadata": {},
     "output_type": "display_data"
    },
    {
     "data": {
      "text/html": [
       "Syncing run <strong><a href='https://wandb.ai/ahmedyousrisobhi/sports_store/runs/p38on8lc' target=\"_blank\">apricot-fire-4</a></strong> to <a href='https://wandb.ai/ahmedyousrisobhi/sports_store' target=\"_blank\">Weights & Biases</a> (<a href='https://wandb.me/run' target=\"_blank\">docs</a>)<br/>"
      ],
      "text/plain": [
       "<IPython.core.display.HTML object>"
      ]
     },
     "metadata": {},
     "output_type": "display_data"
    },
    {
     "data": {
      "text/html": [
       " View project at <a href='https://wandb.ai/ahmedyousrisobhi/sports_store' target=\"_blank\">https://wandb.ai/ahmedyousrisobhi/sports_store</a>"
      ],
      "text/plain": [
       "<IPython.core.display.HTML object>"
      ]
     },
     "metadata": {},
     "output_type": "display_data"
    },
    {
     "data": {
      "text/html": [
       " View run at <a href='https://wandb.ai/ahmedyousrisobhi/sports_store/runs/p38on8lc' target=\"_blank\">https://wandb.ai/ahmedyousrisobhi/sports_store/runs/p38on8lc</a>"
      ],
      "text/plain": [
       "<IPython.core.display.HTML object>"
      ]
     },
     "metadata": {},
     "output_type": "display_data"
    },
    {
     "data": {
      "text/html": [
       "Waiting for W&B process to finish... <strong style=\"color:green\">(success).</strong>"
      ],
      "text/plain": [
       "<IPython.core.display.HTML object>"
      ]
     },
     "metadata": {},
     "output_type": "display_data"
    },
    {
     "name": "stderr",
     "output_type": "stream",
     "text": [
      "wandb: WARNING Source type is set to 'repo' but some required information is missing from the environment. A job will not be created from this run. See https://docs.wandb.ai/guides/launch/create-job\n"
     ]
    },
    {
     "data": {
      "application/vnd.jupyter.widget-view+json": {
       "model_id": "fca0bba4c8424a38a2f0defe40e14e7a",
       "version_major": 2,
       "version_minor": 0
      },
      "text/plain": [
       "VBox(children=(Label(value='0.002 MB of 0.011 MB uploaded (0.000 MB deduped)\\r'), FloatProgress(value=0.212092…"
      ]
     },
     "metadata": {},
     "output_type": "display_data"
    },
    {
     "data": {
      "text/html": [
       "<style>\n",
       "    table.wandb td:nth-child(1) { padding: 0 10px; text-align: left ; width: auto;} td:nth-child(2) {text-align: left ; width: 100%}\n",
       "    .wandb-row { display: flex; flex-direction: row; flex-wrap: wrap; justify-content: flex-start; width: 100% }\n",
       "    .wandb-col { display: flex; flex-direction: column; flex-basis: 100%; flex: 1; padding: 10px; }\n",
       "    </style>\n",
       "<div class=\"wandb-row\"><div class=\"wandb-col\"><h3>Run history:</h3><br/><table class=\"wandb\"><tr><td>train_acc</td><td>▁</td></tr><tr><td>val_acc</td><td>▁</td></tr></table><br/></div><div class=\"wandb-col\"><h3>Run summary:</h3><br/><table class=\"wandb\"><tr><td>train_acc</td><td>1.0</td></tr><tr><td>val_acc</td><td>0.83113</td></tr></table><br/></div></div>"
      ],
      "text/plain": [
       "<IPython.core.display.HTML object>"
      ]
     },
     "metadata": {},
     "output_type": "display_data"
    },
    {
     "data": {
      "text/html": [
       " View run <strong style=\"color:#cdcd00\">apricot-fire-4</strong> at: <a href='https://wandb.ai/ahmedyousrisobhi/sports_store/runs/p38on8lc' target=\"_blank\">https://wandb.ai/ahmedyousrisobhi/sports_store/runs/p38on8lc</a><br/>Synced 5 W&B file(s), 0 media file(s), 0 artifact file(s) and 0 other file(s)"
      ],
      "text/plain": [
       "<IPython.core.display.HTML object>"
      ]
     },
     "metadata": {},
     "output_type": "display_data"
    },
    {
     "data": {
      "text/html": [
       "Find logs at: <code>./wandb/run-20230803_144053-p38on8lc/logs</code>"
      ],
      "text/plain": [
       "<IPython.core.display.HTML object>"
      ]
     },
     "metadata": {},
     "output_type": "display_data"
    }
   ],
   "source": [
    "initial_lr = 0.05\n",
    "\n",
    "config = {\n",
    "    'objective':'binary:logistic',\n",
    "    'colsample_bytree':0.5,\n",
    "    'learning_rate':initial_lr,\n",
    "    'max_depth':10,\n",
    "    'min_child_weight':1,\n",
    "    'n_estimators':1000,\n",
    "    'subsample':0.99,\n",
    "    'verbosity':1,\n",
    "    'n_jobs':-1\n",
    "    }\n",
    "\n",
    "train_model(preprocessor, XGBClassifier, config)\n"
   ]
  },
  {
   "cell_type": "markdown",
   "metadata": {},
   "source": [
    "![image](https://github.com/AhmedYousriSobhi/aCupOfTea/assets/66730765/bf290d38-4937-4f8c-9c04-929987ba70d8)\n"
   ]
  },
  {
   "cell_type": "markdown",
   "metadata": {},
   "source": []
  }
 ],
 "metadata": {
  "kernelspec": {
   "display_name": "realstate",
   "language": "python",
   "name": "python3"
  },
  "language_info": {
   "codemirror_mode": {
    "name": "ipython",
    "version": 3
   },
   "file_extension": ".py",
   "mimetype": "text/x-python",
   "name": "python",
   "nbconvert_exporter": "python",
   "pygments_lexer": "ipython3",
   "version": "3.9.0"
  },
  "orig_nbformat": 4
 },
 "nbformat": 4,
 "nbformat_minor": 2
}
